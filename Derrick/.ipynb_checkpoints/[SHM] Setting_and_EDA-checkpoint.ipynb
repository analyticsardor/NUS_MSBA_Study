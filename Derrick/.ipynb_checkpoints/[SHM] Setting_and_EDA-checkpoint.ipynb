{
 "cells": [
  {
   "cell_type": "markdown",
   "metadata": {},
   "source": [
    "# # Basic Settings"
   ]
  },
  {
   "cell_type": "markdown",
   "metadata": {},
   "source": [
    "### explore directory / file"
   ]
  },
  {
   "cell_type": "code",
   "execution_count": 1,
   "metadata": {},
   "outputs": [
    {
     "data": {
      "text/plain": [
       "'/Users/hwan/Desktop/git_repos/NUS_MSBA_Study/Derrick'"
      ]
     },
     "execution_count": 1,
     "metadata": {},
     "output_type": "execute_result"
    }
   ],
   "source": [
    "pwd"
   ]
  },
  {
   "cell_type": "code",
   "execution_count": 2,
   "metadata": {},
   "outputs": [
    {
     "name": "stdout",
     "output_type": "stream",
     "text": [
      "[SHM] Setting_and_EDA.html   [SHM] Setting_and_EDA.ipynb\r\n"
     ]
    }
   ],
   "source": [
    "ls"
   ]
  },
  {
   "cell_type": "code",
   "execution_count": 3,
   "metadata": {},
   "outputs": [
    {
     "name": "stdout",
     "output_type": "stream",
     "text": [
      "[Errno 2] No such file or directory: 'data/'\n",
      "/Users/hwan/Desktop/git_repos/NUS_MSBA_Study/Derrick\n"
     ]
    }
   ],
   "source": [
    "cd data/"
   ]
  },
  {
   "cell_type": "code",
   "execution_count": 4,
   "metadata": {},
   "outputs": [
    {
     "name": "stdout",
     "output_type": "stream",
     "text": [
      "[SHM] Setting_and_EDA.html   [SHM] Setting_and_EDA.ipynb\r\n"
     ]
    }
   ],
   "source": [
    "ls"
   ]
  },
  {
   "cell_type": "code",
   "execution_count": 5,
   "metadata": {},
   "outputs": [
    {
     "name": "stdout",
     "output_type": "stream",
     "text": [
      "/Users/hwan/Desktop/git_repos/NUS_MSBA_Study\n"
     ]
    }
   ],
   "source": [
    "cd .."
   ]
  },
  {
   "cell_type": "markdown",
   "metadata": {},
   "source": [
    "### read fiile"
   ]
  },
  {
   "cell_type": "code",
   "execution_count": 7,
   "metadata": {},
   "outputs": [
    {
     "data": {
      "text/plain": [
       "(233, 7)"
      ]
     },
     "execution_count": 7,
     "metadata": {},
     "output_type": "execute_result"
    }
   ],
   "source": [
    "import pandas as pd\n",
    "df_orig = pd.read_csv('./common/data/price-range-of-hdb-flats-offered.csv')\n",
    "df_orig.shape"
   ]
  },
  {
   "cell_type": "code",
   "execution_count": 8,
   "metadata": {},
   "outputs": [
    {
     "name": "stdout",
     "output_type": "stream",
     "text": [
      "(233, 7)\n"
     ]
    },
    {
     "data": {
      "text/html": [
       "<div>\n",
       "<style scoped>\n",
       "    .dataframe tbody tr th:only-of-type {\n",
       "        vertical-align: middle;\n",
       "    }\n",
       "\n",
       "    .dataframe tbody tr th {\n",
       "        vertical-align: top;\n",
       "    }\n",
       "\n",
       "    .dataframe thead th {\n",
       "        text-align: right;\n",
       "    }\n",
       "</style>\n",
       "<table border=\"1\" class=\"dataframe\">\n",
       "  <thead>\n",
       "    <tr style=\"text-align: right;\">\n",
       "      <th></th>\n",
       "      <th>financial_year</th>\n",
       "      <th>town</th>\n",
       "      <th>room_type</th>\n",
       "      <th>min_selling_price</th>\n",
       "      <th>max_selling_price</th>\n",
       "      <th>min_selling_price_less_ahg_shg</th>\n",
       "      <th>max_selling_price_less_ahg_shg</th>\n",
       "    </tr>\n",
       "  </thead>\n",
       "  <tbody>\n",
       "    <tr>\n",
       "      <th>0</th>\n",
       "      <td>2008</td>\n",
       "      <td>Punggol</td>\n",
       "      <td>2-room</td>\n",
       "      <td>82000</td>\n",
       "      <td>107000</td>\n",
       "      <td>0</td>\n",
       "      <td>0</td>\n",
       "    </tr>\n",
       "    <tr>\n",
       "      <th>1</th>\n",
       "      <td>2008</td>\n",
       "      <td>Punggol</td>\n",
       "      <td>3-room</td>\n",
       "      <td>135000</td>\n",
       "      <td>211000</td>\n",
       "      <td>0</td>\n",
       "      <td>0</td>\n",
       "    </tr>\n",
       "  </tbody>\n",
       "</table>\n",
       "</div>"
      ],
      "text/plain": [
       "   financial_year     town room_type  min_selling_price  max_selling_price  \\\n",
       "0            2008  Punggol    2-room              82000             107000   \n",
       "1            2008  Punggol    3-room             135000             211000   \n",
       "\n",
       "   min_selling_price_less_ahg_shg  max_selling_price_less_ahg_shg  \n",
       "0                               0                               0  \n",
       "1                               0                               0  "
      ]
     },
     "metadata": {},
     "output_type": "display_data"
    },
    {
     "data": {
      "text/html": [
       "<div>\n",
       "<style scoped>\n",
       "    .dataframe tbody tr th:only-of-type {\n",
       "        vertical-align: middle;\n",
       "    }\n",
       "\n",
       "    .dataframe tbody tr th {\n",
       "        vertical-align: top;\n",
       "    }\n",
       "\n",
       "    .dataframe thead th {\n",
       "        text-align: right;\n",
       "    }\n",
       "</style>\n",
       "<table border=\"1\" class=\"dataframe\">\n",
       "  <thead>\n",
       "    <tr style=\"text-align: right;\">\n",
       "      <th></th>\n",
       "      <th>financial_year</th>\n",
       "      <th>town</th>\n",
       "      <th>room_type</th>\n",
       "      <th>min_selling_price</th>\n",
       "      <th>max_selling_price</th>\n",
       "      <th>min_selling_price_less_ahg_shg</th>\n",
       "      <th>max_selling_price_less_ahg_shg</th>\n",
       "    </tr>\n",
       "  </thead>\n",
       "  <tbody>\n",
       "    <tr>\n",
       "      <th>231</th>\n",
       "      <td>2019</td>\n",
       "      <td>Woodlands</td>\n",
       "      <td>4-room</td>\n",
       "      <td>244000</td>\n",
       "      <td>295000</td>\n",
       "      <td>184000</td>\n",
       "      <td>235000</td>\n",
       "    </tr>\n",
       "    <tr>\n",
       "      <th>232</th>\n",
       "      <td>2019</td>\n",
       "      <td>Woodlands</td>\n",
       "      <td>5-room</td>\n",
       "      <td>336000</td>\n",
       "      <td>383000</td>\n",
       "      <td>331000</td>\n",
       "      <td>378000</td>\n",
       "    </tr>\n",
       "  </tbody>\n",
       "</table>\n",
       "</div>"
      ],
      "text/plain": [
       "     financial_year       town room_type  min_selling_price  \\\n",
       "231            2019  Woodlands    4-room             244000   \n",
       "232            2019  Woodlands    5-room             336000   \n",
       "\n",
       "     max_selling_price  min_selling_price_less_ahg_shg  \\\n",
       "231             295000                          184000   \n",
       "232             383000                          331000   \n",
       "\n",
       "     max_selling_price_less_ahg_shg  \n",
       "231                          235000  \n",
       "232                          378000  "
      ]
     },
     "metadata": {},
     "output_type": "display_data"
    }
   ],
   "source": [
    "df = df_orig.copy()\n",
    "print(df.shape)\n",
    "display(df.head(2), df.tail(2))"
   ]
  },
  {
   "cell_type": "markdown",
   "metadata": {},
   "source": [
    "### import packages"
   ]
  },
  {
   "cell_type": "code",
   "execution_count": 10,
   "metadata": {},
   "outputs": [],
   "source": [
    "import io\n",
    "import os\n",
    "import gc\n",
    "import json\n",
    "import sys\n",
    "# print('-------------------------------------------')\n",
    "# print('system_version:', '\\n', sys.version)\n",
    "# print('-------------------------------------------')\n",
    "# print('system_version_info:', '\\n', sys.version_info)\n",
    "# print('-------------------------------------------')\n",
    "\n",
    "import numpy as np\n",
    "import pandas as pd\n",
    "pd.set_option('max_colwidth', 100)    # max column width\n",
    "# pd.options.display.max_rows = 999   # max row\n",
    "\n",
    "import matplotlib.pyplot as plt\n",
    "plt.style.use('fivethirtyeight')\n",
    "# plt.style.use('seaborn')            # set seaborn scheme\n",
    "%matplotlib inline                    \n",
    "# show plot inline\n",
    "\n",
    "import seaborn as sns\n",
    "sns.set(font_scale=2.5)               # set seaborn font_scale at once\n",
    "sns.set(style='white', context='notebook', palette='deep')\n",
    "\n",
    "from pandasql import sqldf\n",
    "pysqldf = lambda q: sqldf(q, globals())\n",
    "\n",
    "import warnings\n",
    "warnings.filterwarnings('ignore')"
   ]
  },
  {
   "cell_type": "code",
   "execution_count": 11,
   "metadata": {},
   "outputs": [
    {
     "data": {
      "text/html": [
       "<div>\n",
       "<style scoped>\n",
       "    .dataframe tbody tr th:only-of-type {\n",
       "        vertical-align: middle;\n",
       "    }\n",
       "\n",
       "    .dataframe tbody tr th {\n",
       "        vertical-align: top;\n",
       "    }\n",
       "\n",
       "    .dataframe thead th {\n",
       "        text-align: right;\n",
       "    }\n",
       "</style>\n",
       "<table border=\"1\" class=\"dataframe\">\n",
       "  <thead>\n",
       "    <tr style=\"text-align: right;\">\n",
       "      <th></th>\n",
       "      <th>financial_year</th>\n",
       "      <th>town</th>\n",
       "      <th>room_type</th>\n",
       "      <th>min_selling_price</th>\n",
       "      <th>max_selling_price</th>\n",
       "      <th>min_selling_price_less_ahg_shg</th>\n",
       "      <th>max_selling_price_less_ahg_shg</th>\n",
       "    </tr>\n",
       "  </thead>\n",
       "  <tbody>\n",
       "    <tr>\n",
       "      <th>0</th>\n",
       "      <td>2008</td>\n",
       "      <td>Punggol</td>\n",
       "      <td>2-room</td>\n",
       "      <td>82000</td>\n",
       "      <td>107000</td>\n",
       "      <td>0</td>\n",
       "      <td>0</td>\n",
       "    </tr>\n",
       "    <tr>\n",
       "      <th>1</th>\n",
       "      <td>2008</td>\n",
       "      <td>Punggol</td>\n",
       "      <td>3-room</td>\n",
       "      <td>135000</td>\n",
       "      <td>211000</td>\n",
       "      <td>0</td>\n",
       "      <td>0</td>\n",
       "    </tr>\n",
       "  </tbody>\n",
       "</table>\n",
       "</div>"
      ],
      "text/plain": [
       "   financial_year     town room_type  min_selling_price  max_selling_price  \\\n",
       "0            2008  Punggol    2-room              82000             107000   \n",
       "1            2008  Punggol    3-room             135000             211000   \n",
       "\n",
       "   min_selling_price_less_ahg_shg  max_selling_price_less_ahg_shg  \n",
       "0                               0                               0  \n",
       "1                               0                               0  "
      ]
     },
     "execution_count": 11,
     "metadata": {},
     "output_type": "execute_result"
    }
   ],
   "source": [
    "df.head(2)"
   ]
  },
  {
   "cell_type": "markdown",
   "metadata": {},
   "source": [
    "# # EDA - Null Check"
   ]
  },
  {
   "cell_type": "markdown",
   "metadata": {},
   "source": [
    "### UDFs\n",
    "   - null_check_for_loop(): [DataFrame]\n",
    "   - null_check_msno_matrix_default(): [DataFrame]\n",
    "   - null_check_msno_matrix_cust(): [DataFrame]\n",
    "   - null_check_msno_bar(): [DataFrame]\n",
    "   - null_check_sns_heatmap(): [DataFrame]"
   ]
  },
  {
   "cell_type": "markdown",
   "metadata": {},
   "source": [
    "#### 1)"
   ]
  },
  {
   "cell_type": "code",
   "execution_count": 12,
   "metadata": {},
   "outputs": [],
   "source": [
    "def null_check_for_loop(df):\n",
    "    for col in df.columns :\n",
    "        msg = 'column: {:>30}\\t Pearcent of NaN value: {:.2f}%'.format(col, 100*(df[col].isnull().sum() / df[col].shape[0]))\n",
    "        print(msg)"
   ]
  },
  {
   "cell_type": "code",
   "execution_count": 13,
   "metadata": {},
   "outputs": [
    {
     "name": "stdout",
     "output_type": "stream",
     "text": [
      "column:                 financial_year\t Pearcent of NaN value: 0.00%\n",
      "column:                           town\t Pearcent of NaN value: 0.00%\n",
      "column:                      room_type\t Pearcent of NaN value: 0.00%\n",
      "column:              min_selling_price\t Pearcent of NaN value: 0.00%\n",
      "column:              max_selling_price\t Pearcent of NaN value: 0.00%\n",
      "column: min_selling_price_less_ahg_shg\t Pearcent of NaN value: 0.00%\n",
      "column: max_selling_price_less_ahg_shg\t Pearcent of NaN value: 0.00%\n"
     ]
    }
   ],
   "source": [
    "null_check_for_loop(df)"
   ]
  },
  {
   "cell_type": "markdown",
   "metadata": {},
   "source": [
    "#### 2)"
   ]
  },
  {
   "cell_type": "code",
   "execution_count": 14,
   "metadata": {},
   "outputs": [],
   "source": [
    "import missingno as msno\n",
    "def null_check_msno_matrix_default(df):\n",
    "    msno.matrix(df)"
   ]
  },
  {
   "cell_type": "code",
   "execution_count": 15,
   "metadata": {},
   "outputs": [
    {
     "data": {
      "image/png": "[encoded data removed]",
      "text/plain": [
       "<Figure size 1800x720 with 2 Axes>"
      ]
     },
     "metadata": {},
     "output_type": "display_data"
    }
   ],
   "source": [
    "null_check_msno_matrix_default(df)"
   ]
  },
  {
   "cell_type": "code",
   "execution_count": 16,
   "metadata": {},
   "outputs": [],
   "source": [
    "import missingno as msno\n",
    "def null_check_msno_matrix_cust(df):\n",
    "    msno.matrix(df=df.iloc[:, :], figsize=(8,4), color=(0.8, 0.5, 0.2))"
   ]
  },
  {
   "cell_type": "code",
   "execution_count": 17,
   "metadata": {},
   "outputs": [
    {
     "data": {
      "image/png": "[encoded data removed]",
      "text/plain": [
       "<Figure size 576x288 with 2 Axes>"
      ]
     },
     "metadata": {},
     "output_type": "display_data"
    }
   ],
   "source": [
    "null_check_msno_matrix_cust(df)"
   ]
  },
  {
   "cell_type": "code",
   "execution_count": 18,
   "metadata": {},
   "outputs": [],
   "source": [
    "import missingno as msno\n",
    "def null_check_msno_bar(df):\n",
    "    msno.bar(df)"
   ]
  },
  {
   "cell_type": "code",
   "execution_count": 19,
   "metadata": {},
   "outputs": [
    {
     "data": {
      "image/png": "[encoded data removed]",
      "text/plain": [
       "<Figure size 1728x720 with 3 Axes>"
      ]
     },
     "metadata": {},
     "output_type": "display_data"
    }
   ],
   "source": [
    "null_check_msno_bar(df)"
   ]
  },
  {
   "cell_type": "code",
   "execution_count": 20,
   "metadata": {
    "scrolled": true
   },
   "outputs": [
    {
     "data": {
      "text/plain": [
       "<matplotlib.axes._subplots.AxesSubplot at 0x7fd8b0bab0d0>"
      ]
     },
     "execution_count": 20,
     "metadata": {},
     "output_type": "execute_result"
    },
    {
     "data": {
      "image/png": "[encoded data removed]",
      "text/plain": [
       "<Figure size 1440x864 with 2 Axes>"
      ]
     },
     "metadata": {},
     "output_type": "display_data"
    }
   ],
   "source": [
    "msno.heatmap(df)   # if null value exists, heatmap appears"
   ]
  },
  {
   "cell_type": "code",
   "execution_count": 21,
   "metadata": {
    "scrolled": false
   },
   "outputs": [
    {
     "data": {
      "text/plain": [
       "<matplotlib.axes._subplots.AxesSubplot at 0x7fd8b6d301c0>"
      ]
     },
     "execution_count": 21,
     "metadata": {},
     "output_type": "execute_result"
    },
    {
     "data": {
      "image/png": "[encoded data removed]",
      "text/plain": [
       "<Figure size 1800x720 with 1 Axes>"
      ]
     },
     "metadata": {},
     "output_type": "display_data"
    }
   ],
   "source": [
    "msno.dendrogram(df)   # if null value exists, diagram appears"
   ]
  },
  {
   "cell_type": "markdown",
   "metadata": {},
   "source": [
    "#### 3) using seaborn package"
   ]
  },
  {
   "cell_type": "code",
   "execution_count": 22,
   "metadata": {},
   "outputs": [],
   "source": [
    "import matplotlib.pyplot as plt\n",
    "import seaborn as sns\n",
    "%matplotlib inline"
   ]
  },
  {
   "cell_type": "code",
   "execution_count": 23,
   "metadata": {
    "scrolled": true
   },
   "outputs": [],
   "source": [
    "def null_check_sns_heatmap(df):\n",
    "    sns.heatmap(df.isnull(), cbar=False)   \n",
    "    # if null value exists, white line appears"
   ]
  },
  {
   "cell_type": "code",
   "execution_count": 24,
   "metadata": {},
   "outputs": [
    {
     "data": {
      "image/png": "[encoded data removed]",
      "text/plain": [
       "<Figure size 432x288 with 1 Axes>"
      ]
     },
     "metadata": {
      "needs_background": "light"
     },
     "output_type": "display_data"
    }
   ],
   "source": [
    "null_check_sns_heatmap(df)"
   ]
  },
  {
   "cell_type": "markdown",
   "metadata": {},
   "source": [
    "# # EDA - Basic statistics"
   ]
  },
  {
   "cell_type": "code",
   "execution_count": 25,
   "metadata": {},
   "outputs": [
    {
     "data": {
      "text/plain": [
       "(233, 7)"
      ]
     },
     "execution_count": 25,
     "metadata": {},
     "output_type": "execute_result"
    }
   ],
   "source": [
    "df.shape"
   ]
  },
  {
   "cell_type": "code",
   "execution_count": 26,
   "metadata": {},
   "outputs": [
    {
     "data": {
      "text/html": [
       "<div>\n",
       "<style scoped>\n",
       "    .dataframe tbody tr th:only-of-type {\n",
       "        vertical-align: middle;\n",
       "    }\n",
       "\n",
       "    .dataframe tbody tr th {\n",
       "        vertical-align: top;\n",
       "    }\n",
       "\n",
       "    .dataframe thead th {\n",
       "        text-align: right;\n",
       "    }\n",
       "</style>\n",
       "<table border=\"1\" class=\"dataframe\">\n",
       "  <thead>\n",
       "    <tr style=\"text-align: right;\">\n",
       "      <th></th>\n",
       "      <th>0</th>\n",
       "      <th>1</th>\n",
       "      <th>2</th>\n",
       "      <th>3</th>\n",
       "      <th>4</th>\n",
       "    </tr>\n",
       "  </thead>\n",
       "  <tbody>\n",
       "    <tr>\n",
       "      <th>financial_year</th>\n",
       "      <td>2008</td>\n",
       "      <td>2008</td>\n",
       "      <td>2008</td>\n",
       "      <td>2008</td>\n",
       "      <td>2008</td>\n",
       "    </tr>\n",
       "    <tr>\n",
       "      <th>town</th>\n",
       "      <td>Punggol</td>\n",
       "      <td>Punggol</td>\n",
       "      <td>Punggol</td>\n",
       "      <td>Punggol</td>\n",
       "      <td>Jurong West</td>\n",
       "    </tr>\n",
       "    <tr>\n",
       "      <th>room_type</th>\n",
       "      <td>2-room</td>\n",
       "      <td>3-room</td>\n",
       "      <td>4-room</td>\n",
       "      <td>5-room</td>\n",
       "      <td>3-room</td>\n",
       "    </tr>\n",
       "    <tr>\n",
       "      <th>min_selling_price</th>\n",
       "      <td>82000</td>\n",
       "      <td>135000</td>\n",
       "      <td>223000</td>\n",
       "      <td>305000</td>\n",
       "      <td>142000</td>\n",
       "    </tr>\n",
       "    <tr>\n",
       "      <th>max_selling_price</th>\n",
       "      <td>107000</td>\n",
       "      <td>211000</td>\n",
       "      <td>327000</td>\n",
       "      <td>428000</td>\n",
       "      <td>160000</td>\n",
       "    </tr>\n",
       "    <tr>\n",
       "      <th>min_selling_price_less_ahg_shg</th>\n",
       "      <td>0</td>\n",
       "      <td>0</td>\n",
       "      <td>0</td>\n",
       "      <td>0</td>\n",
       "      <td>0</td>\n",
       "    </tr>\n",
       "    <tr>\n",
       "      <th>max_selling_price_less_ahg_shg</th>\n",
       "      <td>0</td>\n",
       "      <td>0</td>\n",
       "      <td>0</td>\n",
       "      <td>0</td>\n",
       "      <td>0</td>\n",
       "    </tr>\n",
       "  </tbody>\n",
       "</table>\n",
       "</div>"
      ],
      "text/plain": [
       "                                      0        1        2        3  \\\n",
       "financial_year                     2008     2008     2008     2008   \n",
       "town                            Punggol  Punggol  Punggol  Punggol   \n",
       "room_type                        2-room   3-room   4-room   5-room   \n",
       "min_selling_price                 82000   135000   223000   305000   \n",
       "max_selling_price                107000   211000   327000   428000   \n",
       "min_selling_price_less_ahg_shg        0        0        0        0   \n",
       "max_selling_price_less_ahg_shg        0        0        0        0   \n",
       "\n",
       "                                          4  \n",
       "financial_year                         2008  \n",
       "town                            Jurong West  \n",
       "room_type                            3-room  \n",
       "min_selling_price                    142000  \n",
       "max_selling_price                    160000  \n",
       "min_selling_price_less_ahg_shg            0  \n",
       "max_selling_price_less_ahg_shg            0  "
      ]
     },
     "execution_count": 26,
     "metadata": {},
     "output_type": "execute_result"
    }
   ],
   "source": [
    "df.head(5).transpose()"
   ]
  },
  {
   "cell_type": "code",
   "execution_count": 27,
   "metadata": {},
   "outputs": [
    {
     "data": {
      "text/html": [
       "<div>\n",
       "<style scoped>\n",
       "    .dataframe tbody tr th:only-of-type {\n",
       "        vertical-align: middle;\n",
       "    }\n",
       "\n",
       "    .dataframe tbody tr th {\n",
       "        vertical-align: top;\n",
       "    }\n",
       "\n",
       "    .dataframe thead th {\n",
       "        text-align: right;\n",
       "    }\n",
       "</style>\n",
       "<table border=\"1\" class=\"dataframe\">\n",
       "  <thead>\n",
       "    <tr style=\"text-align: right;\">\n",
       "      <th></th>\n",
       "      <th>0</th>\n",
       "      <th>1</th>\n",
       "      <th>2</th>\n",
       "      <th>3</th>\n",
       "      <th>4</th>\n",
       "    </tr>\n",
       "  </thead>\n",
       "  <tbody>\n",
       "    <tr>\n",
       "      <th>financial_year</th>\n",
       "      <td>2008</td>\n",
       "      <td>2008</td>\n",
       "      <td>2008</td>\n",
       "      <td>2008</td>\n",
       "      <td>2008</td>\n",
       "    </tr>\n",
       "    <tr>\n",
       "      <th>town</th>\n",
       "      <td>Punggol</td>\n",
       "      <td>Punggol</td>\n",
       "      <td>Punggol</td>\n",
       "      <td>Punggol</td>\n",
       "      <td>Jurong West</td>\n",
       "    </tr>\n",
       "    <tr>\n",
       "      <th>room_type</th>\n",
       "      <td>2-room</td>\n",
       "      <td>3-room</td>\n",
       "      <td>4-room</td>\n",
       "      <td>5-room</td>\n",
       "      <td>3-room</td>\n",
       "    </tr>\n",
       "    <tr>\n",
       "      <th>min_selling_price</th>\n",
       "      <td>82000</td>\n",
       "      <td>135000</td>\n",
       "      <td>223000</td>\n",
       "      <td>305000</td>\n",
       "      <td>142000</td>\n",
       "    </tr>\n",
       "    <tr>\n",
       "      <th>max_selling_price</th>\n",
       "      <td>107000</td>\n",
       "      <td>211000</td>\n",
       "      <td>327000</td>\n",
       "      <td>428000</td>\n",
       "      <td>160000</td>\n",
       "    </tr>\n",
       "    <tr>\n",
       "      <th>min_selling_price_less_ahg_shg</th>\n",
       "      <td>0</td>\n",
       "      <td>0</td>\n",
       "      <td>0</td>\n",
       "      <td>0</td>\n",
       "      <td>0</td>\n",
       "    </tr>\n",
       "    <tr>\n",
       "      <th>max_selling_price_less_ahg_shg</th>\n",
       "      <td>0</td>\n",
       "      <td>0</td>\n",
       "      <td>0</td>\n",
       "      <td>0</td>\n",
       "      <td>0</td>\n",
       "    </tr>\n",
       "  </tbody>\n",
       "</table>\n",
       "</div>"
      ],
      "text/plain": [
       "                                      0        1        2        3  \\\n",
       "financial_year                     2008     2008     2008     2008   \n",
       "town                            Punggol  Punggol  Punggol  Punggol   \n",
       "room_type                        2-room   3-room   4-room   5-room   \n",
       "min_selling_price                 82000   135000   223000   305000   \n",
       "max_selling_price                107000   211000   327000   428000   \n",
       "min_selling_price_less_ahg_shg        0        0        0        0   \n",
       "max_selling_price_less_ahg_shg        0        0        0        0   \n",
       "\n",
       "                                          4  \n",
       "financial_year                         2008  \n",
       "town                            Jurong West  \n",
       "room_type                            3-room  \n",
       "min_selling_price                    142000  \n",
       "max_selling_price                    160000  \n",
       "min_selling_price_less_ahg_shg            0  \n",
       "max_selling_price_less_ahg_shg            0  "
      ]
     },
     "execution_count": 27,
     "metadata": {},
     "output_type": "execute_result"
    }
   ],
   "source": [
    "df.head(5).transpose()"
   ]
  },
  {
   "cell_type": "markdown",
   "metadata": {},
   "source": [
    "### col.1) financial_year"
   ]
  },
  {
   "cell_type": "code",
   "execution_count": 28,
   "metadata": {},
   "outputs": [
    {
     "data": {
      "text/plain": [
       "12"
      ]
     },
     "execution_count": 28,
     "metadata": {},
     "output_type": "execute_result"
    }
   ],
   "source": [
    "len(df['financial_year'].unique())"
   ]
  },
  {
   "cell_type": "code",
   "execution_count": 29,
   "metadata": {},
   "outputs": [
    {
     "data": {
      "text/plain": [
       "array([2008, 2009, 2010, 2011, 2012, 2013, 2014, 2015, 2016, 2017, 2018,\n",
       "       2019])"
      ]
     },
     "execution_count": 29,
     "metadata": {},
     "output_type": "execute_result"
    }
   ],
   "source": [
    "df['financial_year'].unique()"
   ]
  },
  {
   "cell_type": "code",
   "execution_count": 30,
   "metadata": {},
   "outputs": [
    {
     "data": {
      "text/plain": [
       "count     233.000000\n",
       "mean     2013.622318\n",
       "std         3.404335\n",
       "min      2008.000000\n",
       "25%      2011.000000\n",
       "50%      2014.000000\n",
       "75%      2017.000000\n",
       "max      2019.000000\n",
       "Name: financial_year, dtype: float64"
      ]
     },
     "execution_count": 30,
     "metadata": {},
     "output_type": "execute_result"
    }
   ],
   "source": [
    "df['financial_year'].describe()"
   ]
  },
  {
   "cell_type": "code",
   "execution_count": 31,
   "metadata": {},
   "outputs": [
    {
     "data": {
      "text/plain": [
       "2018    24\n",
       "2017    24\n",
       "2014    24\n",
       "2013    23\n",
       "2011    20\n",
       "2009    19\n",
       "2010    18\n",
       "2008    17\n",
       "2019    16\n",
       "2016    16\n",
       "2015    16\n",
       "2012    16\n",
       "Name: financial_year, dtype: int64"
      ]
     },
     "execution_count": 31,
     "metadata": {},
     "output_type": "execute_result"
    }
   ],
   "source": [
    "df['financial_year'].value_counts()"
   ]
  },
  {
   "cell_type": "markdown",
   "metadata": {},
   "source": [
    "### col.2) town"
   ]
  },
  {
   "cell_type": "code",
   "execution_count": 32,
   "metadata": {},
   "outputs": [
    {
     "data": {
      "text/plain": [
       "10"
      ]
     },
     "execution_count": 32,
     "metadata": {},
     "output_type": "execute_result"
    }
   ],
   "source": [
    "len(df['town'].unique())"
   ]
  },
  {
   "cell_type": "code",
   "execution_count": 33,
   "metadata": {},
   "outputs": [
    {
     "data": {
      "text/plain": [
       "array(['Punggol', 'Jurong West', 'Bukit Panjang', 'Woodlands', 'Sengkang',\n",
       "       'Choa Chu Kang', 'Sembawang', 'Yishun', 'Bukit Batok', 'Tengah'],\n",
       "      dtype=object)"
      ]
     },
     "execution_count": 33,
     "metadata": {},
     "output_type": "execute_result"
    }
   ],
   "source": [
    "df['town'].unique()"
   ]
  },
  {
   "cell_type": "code",
   "execution_count": 34,
   "metadata": {},
   "outputs": [
    {
     "data": {
      "text/plain": [
       "count         233\n",
       "unique         10\n",
       "top       Punggol\n",
       "freq           47\n",
       "Name: town, dtype: object"
      ]
     },
     "execution_count": 34,
     "metadata": {},
     "output_type": "execute_result"
    }
   ],
   "source": [
    "df['town'].describe()"
   ]
  },
  {
   "cell_type": "code",
   "execution_count": 35,
   "metadata": {},
   "outputs": [
    {
     "data": {
      "text/plain": [
       "Punggol          47\n",
       "Sengkang         39\n",
       "Woodlands        27\n",
       "Sembawang        27\n",
       "Yishun           26\n",
       "Choa Chu Kang    17\n",
       "Bukit Panjang    17\n",
       "Jurong West      13\n",
       "Bukit Batok      12\n",
       "Tengah            8\n",
       "Name: town, dtype: int64"
      ]
     },
     "execution_count": 35,
     "metadata": {},
     "output_type": "execute_result"
    }
   ],
   "source": [
    "df['town'].value_counts()"
   ]
  },
  {
   "cell_type": "markdown",
   "metadata": {},
   "source": [
    "### col.3) room_type"
   ]
  },
  {
   "cell_type": "code",
   "execution_count": 36,
   "metadata": {},
   "outputs": [],
   "source": [
    "# len(df['room_type'].unique())"
   ]
  },
  {
   "cell_type": "code",
   "execution_count": 37,
   "metadata": {},
   "outputs": [
    {
     "data": {
      "text/plain": [
       "count        233\n",
       "unique         4\n",
       "top       4-room\n",
       "freq          63\n",
       "Name: room_type, dtype: object"
      ]
     },
     "execution_count": 37,
     "metadata": {},
     "output_type": "execute_result"
    }
   ],
   "source": [
    "df['room_type'].describe()"
   ]
  },
  {
   "cell_type": "code",
   "execution_count": 38,
   "metadata": {},
   "outputs": [
    {
     "data": {
      "text/plain": [
       "array(['2-room', '3-room', '4-room', '5-room'], dtype=object)"
      ]
     },
     "execution_count": 38,
     "metadata": {},
     "output_type": "execute_result"
    }
   ],
   "source": [
    "df['room_type'].unique()"
   ]
  },
  {
   "cell_type": "code",
   "execution_count": 39,
   "metadata": {},
   "outputs": [
    {
     "data": {
      "text/plain": [
       "4-room    63\n",
       "3-room    62\n",
       "5-room    57\n",
       "2-room    51\n",
       "Name: room_type, dtype: int64"
      ]
     },
     "execution_count": 39,
     "metadata": {},
     "output_type": "execute_result"
    }
   ],
   "source": [
    "df['room_type'].value_counts()"
   ]
  },
  {
   "cell_type": "markdown",
   "metadata": {},
   "source": [
    "### Point.1\n",
    " - hierarchical column dimension\n",
    " - dimension column: [financial_year, town, room_type]"
   ]
  },
  {
   "cell_type": "markdown",
   "metadata": {},
   "source": [
    "# Problem Definition <font style=\"color:red\">(**IMPORTANT**)</font> \n",
    " - **What is the problem?**\n",
    " - **What is the question?**\n",
    " - **What do I want to know?**"
   ]
  },
  {
   "cell_type": "code",
   "execution_count": 40,
   "metadata": {},
   "outputs": [
    {
     "data": {
      "text/html": [
       "<div>\n",
       "<style scoped>\n",
       "    .dataframe tbody tr th:only-of-type {\n",
       "        vertical-align: middle;\n",
       "    }\n",
       "\n",
       "    .dataframe tbody tr th {\n",
       "        vertical-align: top;\n",
       "    }\n",
       "\n",
       "    .dataframe thead th {\n",
       "        text-align: right;\n",
       "    }\n",
       "</style>\n",
       "<table border=\"1\" class=\"dataframe\">\n",
       "  <thead>\n",
       "    <tr style=\"text-align: right;\">\n",
       "      <th></th>\n",
       "      <th>financial_year</th>\n",
       "      <th>town</th>\n",
       "      <th>room_type</th>\n",
       "      <th>min_selling_price</th>\n",
       "      <th>max_selling_price</th>\n",
       "      <th>min_selling_price_less_ahg_shg</th>\n",
       "      <th>max_selling_price_less_ahg_shg</th>\n",
       "    </tr>\n",
       "  </thead>\n",
       "  <tbody>\n",
       "    <tr>\n",
       "      <th>0</th>\n",
       "      <td>2008</td>\n",
       "      <td>Punggol</td>\n",
       "      <td>2-room</td>\n",
       "      <td>82000</td>\n",
       "      <td>107000</td>\n",
       "      <td>0</td>\n",
       "      <td>0</td>\n",
       "    </tr>\n",
       "    <tr>\n",
       "      <th>1</th>\n",
       "      <td>2008</td>\n",
       "      <td>Punggol</td>\n",
       "      <td>3-room</td>\n",
       "      <td>135000</td>\n",
       "      <td>211000</td>\n",
       "      <td>0</td>\n",
       "      <td>0</td>\n",
       "    </tr>\n",
       "    <tr>\n",
       "      <th>2</th>\n",
       "      <td>2008</td>\n",
       "      <td>Punggol</td>\n",
       "      <td>4-room</td>\n",
       "      <td>223000</td>\n",
       "      <td>327000</td>\n",
       "      <td>0</td>\n",
       "      <td>0</td>\n",
       "    </tr>\n",
       "    <tr>\n",
       "      <th>3</th>\n",
       "      <td>2008</td>\n",
       "      <td>Punggol</td>\n",
       "      <td>5-room</td>\n",
       "      <td>305000</td>\n",
       "      <td>428000</td>\n",
       "      <td>0</td>\n",
       "      <td>0</td>\n",
       "    </tr>\n",
       "    <tr>\n",
       "      <th>4</th>\n",
       "      <td>2008</td>\n",
       "      <td>Jurong West</td>\n",
       "      <td>3-room</td>\n",
       "      <td>142000</td>\n",
       "      <td>160000</td>\n",
       "      <td>0</td>\n",
       "      <td>0</td>\n",
       "    </tr>\n",
       "  </tbody>\n",
       "</table>\n",
       "</div>"
      ],
      "text/plain": [
       "   financial_year         town room_type  min_selling_price  \\\n",
       "0            2008      Punggol    2-room              82000   \n",
       "1            2008      Punggol    3-room             135000   \n",
       "2            2008      Punggol    4-room             223000   \n",
       "3            2008      Punggol    5-room             305000   \n",
       "4            2008  Jurong West    3-room             142000   \n",
       "\n",
       "   max_selling_price  min_selling_price_less_ahg_shg  \\\n",
       "0             107000                               0   \n",
       "1             211000                               0   \n",
       "2             327000                               0   \n",
       "3             428000                               0   \n",
       "4             160000                               0   \n",
       "\n",
       "   max_selling_price_less_ahg_shg  \n",
       "0                               0  \n",
       "1                               0  \n",
       "2                               0  \n",
       "3                               0  \n",
       "4                               0  "
      ]
     },
     "execution_count": 40,
     "metadata": {},
     "output_type": "execute_result"
    }
   ],
   "source": [
    "df.head()"
   ]
  },
  {
   "cell_type": "markdown",
   "metadata": {},
   "source": [
    "# Questions\n",
    " - Q1) (Info. about Room type) \n",
    "   - In average, how much have the 2-room selling price increased(ratio) as time goes by from 2008 to 2018? What about other room types? What room type has the biggest increase in selling price?\n",
    " - Q2) (One more dimension: Info. about town) \n",
    "   - What town has the biggest increase(ratio) in selling price, comparing 2008 and 2018? Which town is the smallest?\n",
    " - Q3) (Info.about the gap between max. and min. values) \n",
    "   - In 2018, how is the gap between min price and max price for each town in average? For each town, which room-type has the largest selling price gap?!"
   ]
  },
  {
   "cell_type": "markdown",
   "metadata": {},
   "source": [
    "# What to discuss?"
   ]
  },
  {
   "cell_type": "markdown",
   "metadata": {},
   "source": [
    " - What can we do with the max selling price and the min selling price?"
   ]
  },
  {
   "cell_type": "markdown",
   "metadata": {},
   "source": [
    "# What kind of questions that we can sove using Machine Learning methods? \n",
    " - not a tidy data... and a few rows... so... \n",
    " - but still regression for (average) price prediction..."
   ]
  },
  {
   "cell_type": "code",
   "execution_count": null,
   "metadata": {},
   "outputs": [],
   "source": []
  },
  {
   "cell_type": "code",
   "execution_count": null,
   "metadata": {},
   "outputs": [],
   "source": []
  },
  {
   "cell_type": "code",
   "execution_count": null,
   "metadata": {},
   "outputs": [],
   "source": []
  },
  {
   "cell_type": "code",
   "execution_count": null,
   "metadata": {},
   "outputs": [],
   "source": []
  },
  {
   "cell_type": "code",
   "execution_count": null,
   "metadata": {},
   "outputs": [],
   "source": []
  },
  {
   "cell_type": "markdown",
   "metadata": {},
   "source": [
    "# Appendix... "
   ]
  },
  {
   "cell_type": "markdown",
   "metadata": {},
   "source": [
    "### Next... let's look into 2018..."
   ]
  },
  {
   "cell_type": "code",
   "execution_count": 41,
   "metadata": {},
   "outputs": [
    {
     "data": {
      "text/html": [
       "<div>\n",
       "<style scoped>\n",
       "    .dataframe tbody tr th:only-of-type {\n",
       "        vertical-align: middle;\n",
       "    }\n",
       "\n",
       "    .dataframe tbody tr th {\n",
       "        vertical-align: top;\n",
       "    }\n",
       "\n",
       "    .dataframe thead th {\n",
       "        text-align: right;\n",
       "    }\n",
       "</style>\n",
       "<table border=\"1\" class=\"dataframe\">\n",
       "  <thead>\n",
       "    <tr style=\"text-align: right;\">\n",
       "      <th></th>\n",
       "      <th>financial_year</th>\n",
       "      <th>town</th>\n",
       "      <th>room_type</th>\n",
       "      <th>min_selling_price</th>\n",
       "      <th>max_selling_price</th>\n",
       "      <th>min_selling_price_less_ahg_shg</th>\n",
       "      <th>max_selling_price_less_ahg_shg</th>\n",
       "    </tr>\n",
       "  </thead>\n",
       "  <tbody>\n",
       "    <tr>\n",
       "      <th>0</th>\n",
       "      <td>2008</td>\n",
       "      <td>Punggol</td>\n",
       "      <td>2-room</td>\n",
       "      <td>82000</td>\n",
       "      <td>107000</td>\n",
       "      <td>0</td>\n",
       "      <td>0</td>\n",
       "    </tr>\n",
       "    <tr>\n",
       "      <th>1</th>\n",
       "      <td>2008</td>\n",
       "      <td>Punggol</td>\n",
       "      <td>3-room</td>\n",
       "      <td>135000</td>\n",
       "      <td>211000</td>\n",
       "      <td>0</td>\n",
       "      <td>0</td>\n",
       "    </tr>\n",
       "  </tbody>\n",
       "</table>\n",
       "</div>"
      ],
      "text/plain": [
       "   financial_year     town room_type  min_selling_price  max_selling_price  \\\n",
       "0            2008  Punggol    2-room              82000             107000   \n",
       "1            2008  Punggol    3-room             135000             211000   \n",
       "\n",
       "   min_selling_price_less_ahg_shg  max_selling_price_less_ahg_shg  \n",
       "0                               0                               0  \n",
       "1                               0                               0  "
      ]
     },
     "execution_count": 41,
     "metadata": {},
     "output_type": "execute_result"
    }
   ],
   "source": [
    "df.head(2)"
   ]
  },
  {
   "cell_type": "code",
   "execution_count": 42,
   "metadata": {},
   "outputs": [
    {
     "data": {
      "text/plain": [
       "numpy.int64"
      ]
     },
     "execution_count": 42,
     "metadata": {},
     "output_type": "execute_result"
    }
   ],
   "source": [
    "type(df['financial_year'][0])"
   ]
  },
  {
   "cell_type": "code",
   "execution_count": 43,
   "metadata": {},
   "outputs": [
    {
     "name": "stdout",
     "output_type": "stream",
     "text": [
      "(24, 7)\n"
     ]
    },
    {
     "data": {
      "text/html": [
       "<div>\n",
       "<style scoped>\n",
       "    .dataframe tbody tr th:only-of-type {\n",
       "        vertical-align: middle;\n",
       "    }\n",
       "\n",
       "    .dataframe tbody tr th {\n",
       "        vertical-align: top;\n",
       "    }\n",
       "\n",
       "    .dataframe thead th {\n",
       "        text-align: right;\n",
       "    }\n",
       "</style>\n",
       "<table border=\"1\" class=\"dataframe\">\n",
       "  <thead>\n",
       "    <tr style=\"text-align: right;\">\n",
       "      <th></th>\n",
       "      <th>193</th>\n",
       "      <th>194</th>\n",
       "      <th>195</th>\n",
       "      <th>196</th>\n",
       "      <th>197</th>\n",
       "    </tr>\n",
       "  </thead>\n",
       "  <tbody>\n",
       "    <tr>\n",
       "      <th>financial_year</th>\n",
       "      <td>2018</td>\n",
       "      <td>2018</td>\n",
       "      <td>2018</td>\n",
       "      <td>2018</td>\n",
       "      <td>2018</td>\n",
       "    </tr>\n",
       "    <tr>\n",
       "      <th>town</th>\n",
       "      <td>Jurong West</td>\n",
       "      <td>Jurong West</td>\n",
       "      <td>Jurong West</td>\n",
       "      <td>Jurong West</td>\n",
       "      <td>Punggol</td>\n",
       "    </tr>\n",
       "    <tr>\n",
       "      <th>room_type</th>\n",
       "      <td>2-room</td>\n",
       "      <td>3-room</td>\n",
       "      <td>4-room</td>\n",
       "      <td>5-room</td>\n",
       "      <td>2-room</td>\n",
       "    </tr>\n",
       "    <tr>\n",
       "      <th>min_selling_price</th>\n",
       "      <td>95000</td>\n",
       "      <td>185000</td>\n",
       "      <td>257000</td>\n",
       "      <td>338000</td>\n",
       "      <td>103000</td>\n",
       "    </tr>\n",
       "    <tr>\n",
       "      <th>max_selling_price</th>\n",
       "      <td>160000</td>\n",
       "      <td>243000</td>\n",
       "      <td>364000</td>\n",
       "      <td>457000</td>\n",
       "      <td>158000</td>\n",
       "    </tr>\n",
       "    <tr>\n",
       "      <th>min_selling_price_less_ahg_shg</th>\n",
       "      <td>15000</td>\n",
       "      <td>110000</td>\n",
       "      <td>197000</td>\n",
       "      <td>333000</td>\n",
       "      <td>23000</td>\n",
       "    </tr>\n",
       "    <tr>\n",
       "      <th>max_selling_price_less_ahg_shg</th>\n",
       "      <td>80000</td>\n",
       "      <td>168000</td>\n",
       "      <td>304000</td>\n",
       "      <td>452000</td>\n",
       "      <td>78000</td>\n",
       "    </tr>\n",
       "  </tbody>\n",
       "</table>\n",
       "</div>"
      ],
      "text/plain": [
       "                                        193          194          195  \\\n",
       "financial_year                         2018         2018         2018   \n",
       "town                            Jurong West  Jurong West  Jurong West   \n",
       "room_type                            2-room       3-room       4-room   \n",
       "min_selling_price                     95000       185000       257000   \n",
       "max_selling_price                    160000       243000       364000   \n",
       "min_selling_price_less_ahg_shg        15000       110000       197000   \n",
       "max_selling_price_less_ahg_shg        80000       168000       304000   \n",
       "\n",
       "                                        196      197  \n",
       "financial_year                         2018     2018  \n",
       "town                            Jurong West  Punggol  \n",
       "room_type                            5-room   2-room  \n",
       "min_selling_price                    338000   103000  \n",
       "max_selling_price                    457000   158000  \n",
       "min_selling_price_less_ahg_shg       333000    23000  \n",
       "max_selling_price_less_ahg_shg       452000    78000  "
      ]
     },
     "execution_count": 43,
     "metadata": {},
     "output_type": "execute_result"
    }
   ],
   "source": [
    "d2018 = df[df['financial_year']==2018]\n",
    "print(d2018.shape)\n",
    "d2018.head(5).transpose()"
   ]
  },
  {
   "cell_type": "code",
   "execution_count": null,
   "metadata": {},
   "outputs": [],
   "source": []
  }
 ],
 "metadata": {
  "kernelspec": {
   "display_name": "Python 3",
   "language": "python",
   "name": "python3"
  },
  "language_info": {
   "codemirror_mode": {
    "name": "ipython",
    "version": 3
   },
   "file_extension": ".py",
   "mimetype": "text/x-python",
   "name": "python",
   "nbconvert_exporter": "python",
   "pygments_lexer": "ipython3",
   "version": "3.8.2"
  }
 },
 "nbformat": 4,
 "nbformat_minor": 4
}
