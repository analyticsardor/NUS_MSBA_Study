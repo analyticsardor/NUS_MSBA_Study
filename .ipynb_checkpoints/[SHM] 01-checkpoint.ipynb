{
 "cells": [
  {
   "cell_type": "markdown",
   "metadata": {},
   "source": [
    "# Basic Settings"
   ]
  },
  {
   "cell_type": "markdown",
   "metadata": {},
   "source": [
    "### explore directory / file"
   ]
  },
  {
   "cell_type": "code",
   "execution_count": 2,
   "metadata": {},
   "outputs": [
    {
     "data": {
      "text/plain": [
       "'/Users/hwan/Desktop/git_repos/NUS_MSBA_Study'"
      ]
     },
     "execution_count": 2,
     "metadata": {},
     "output_type": "execute_result"
    }
   ],
   "source": [
    "pwd"
   ]
  },
  {
   "cell_type": "code",
   "execution_count": 1,
   "metadata": {},
   "outputs": [
    {
     "name": "stdout",
     "output_type": "stream",
     "text": [
      "README.md       [SHM] 01.ipynb  \u001b[1m\u001b[36mdata\u001b[m\u001b[m/           test.txt\r\n"
     ]
    }
   ],
   "source": [
    "ls"
   ]
  },
  {
   "cell_type": "code",
   "execution_count": 3,
   "metadata": {},
   "outputs": [
    {
     "name": "stdout",
     "output_type": "stream",
     "text": [
      "/Users/hwan/Desktop/git_repos/NUS_MSBA_Study/data\n"
     ]
    }
   ],
   "source": [
    "cd data/"
   ]
  },
  {
   "cell_type": "code",
   "execution_count": 4,
   "metadata": {},
   "outputs": [
    {
     "name": "stdout",
     "output_type": "stream",
     "text": [
      "footnotes-in-annual-report-for-price-range-of-hdb-flats-offered.pdf\r\n",
      "metadata-price-range-of-hdb-flats-offered.txt\r\n",
      "price-range-of-hdb-flats-offered.csv\r\n"
     ]
    }
   ],
   "source": [
    "ls"
   ]
  },
  {
   "cell_type": "code",
   "execution_count": 5,
   "metadata": {},
   "outputs": [
    {
     "name": "stdout",
     "output_type": "stream",
     "text": [
      "/Users/hwan/Desktop/git_repos/NUS_MSBA_Study\n"
     ]
    }
   ],
   "source": [
    "cd .."
   ]
  },
  {
   "cell_type": "markdown",
   "metadata": {},
   "source": [
    "### read fiile"
   ]
  },
  {
   "cell_type": "code",
   "execution_count": 6,
   "metadata": {},
   "outputs": [
    {
     "data": {
      "text/plain": [
       "(233, 7)"
      ]
     },
     "execution_count": 6,
     "metadata": {},
     "output_type": "execute_result"
    }
   ],
   "source": [
    "import pandas as pd\n",
    "df_orig = pd.read_csv('./data/price-range-of-hdb-flats-offered.csv')\n",
    "df_orig.shape"
   ]
  },
  {
   "cell_type": "code",
   "execution_count": 7,
   "metadata": {},
   "outputs": [
    {
     "name": "stdout",
     "output_type": "stream",
     "text": [
      "(233, 7)\n"
     ]
    },
    {
     "data": {
      "text/html": [
       "<div>\n",
       "<style scoped>\n",
       "    .dataframe tbody tr th:only-of-type {\n",
       "        vertical-align: middle;\n",
       "    }\n",
       "\n",
       "    .dataframe tbody tr th {\n",
       "        vertical-align: top;\n",
       "    }\n",
       "\n",
       "    .dataframe thead th {\n",
       "        text-align: right;\n",
       "    }\n",
       "</style>\n",
       "<table border=\"1\" class=\"dataframe\">\n",
       "  <thead>\n",
       "    <tr style=\"text-align: right;\">\n",
       "      <th></th>\n",
       "      <th>financial_year</th>\n",
       "      <th>town</th>\n",
       "      <th>room_type</th>\n",
       "      <th>min_selling_price</th>\n",
       "      <th>max_selling_price</th>\n",
       "      <th>min_selling_price_less_ahg_shg</th>\n",
       "      <th>max_selling_price_less_ahg_shg</th>\n",
       "    </tr>\n",
       "  </thead>\n",
       "  <tbody>\n",
       "    <tr>\n",
       "      <th>0</th>\n",
       "      <td>2008</td>\n",
       "      <td>Punggol</td>\n",
       "      <td>2-room</td>\n",
       "      <td>82000</td>\n",
       "      <td>107000</td>\n",
       "      <td>0</td>\n",
       "      <td>0</td>\n",
       "    </tr>\n",
       "    <tr>\n",
       "      <th>1</th>\n",
       "      <td>2008</td>\n",
       "      <td>Punggol</td>\n",
       "      <td>3-room</td>\n",
       "      <td>135000</td>\n",
       "      <td>211000</td>\n",
       "      <td>0</td>\n",
       "      <td>0</td>\n",
       "    </tr>\n",
       "  </tbody>\n",
       "</table>\n",
       "</div>"
      ],
      "text/plain": [
       "   financial_year     town room_type  min_selling_price  max_selling_price  \\\n",
       "0            2008  Punggol    2-room              82000             107000   \n",
       "1            2008  Punggol    3-room             135000             211000   \n",
       "\n",
       "   min_selling_price_less_ahg_shg  max_selling_price_less_ahg_shg  \n",
       "0                               0                               0  \n",
       "1                               0                               0  "
      ]
     },
     "metadata": {},
     "output_type": "display_data"
    },
    {
     "data": {
      "text/html": [
       "<div>\n",
       "<style scoped>\n",
       "    .dataframe tbody tr th:only-of-type {\n",
       "        vertical-align: middle;\n",
       "    }\n",
       "\n",
       "    .dataframe tbody tr th {\n",
       "        vertical-align: top;\n",
       "    }\n",
       "\n",
       "    .dataframe thead th {\n",
       "        text-align: right;\n",
       "    }\n",
       "</style>\n",
       "<table border=\"1\" class=\"dataframe\">\n",
       "  <thead>\n",
       "    <tr style=\"text-align: right;\">\n",
       "      <th></th>\n",
       "      <th>financial_year</th>\n",
       "      <th>town</th>\n",
       "      <th>room_type</th>\n",
       "      <th>min_selling_price</th>\n",
       "      <th>max_selling_price</th>\n",
       "      <th>min_selling_price_less_ahg_shg</th>\n",
       "      <th>max_selling_price_less_ahg_shg</th>\n",
       "    </tr>\n",
       "  </thead>\n",
       "  <tbody>\n",
       "    <tr>\n",
       "      <th>231</th>\n",
       "      <td>2019</td>\n",
       "      <td>Woodlands</td>\n",
       "      <td>4-room</td>\n",
       "      <td>244000</td>\n",
       "      <td>295000</td>\n",
       "      <td>184000</td>\n",
       "      <td>235000</td>\n",
       "    </tr>\n",
       "    <tr>\n",
       "      <th>232</th>\n",
       "      <td>2019</td>\n",
       "      <td>Woodlands</td>\n",
       "      <td>5-room</td>\n",
       "      <td>336000</td>\n",
       "      <td>383000</td>\n",
       "      <td>331000</td>\n",
       "      <td>378000</td>\n",
       "    </tr>\n",
       "  </tbody>\n",
       "</table>\n",
       "</div>"
      ],
      "text/plain": [
       "     financial_year       town room_type  min_selling_price  \\\n",
       "231            2019  Woodlands    4-room             244000   \n",
       "232            2019  Woodlands    5-room             336000   \n",
       "\n",
       "     max_selling_price  min_selling_price_less_ahg_shg  \\\n",
       "231             295000                          184000   \n",
       "232             383000                          331000   \n",
       "\n",
       "     max_selling_price_less_ahg_shg  \n",
       "231                          235000  \n",
       "232                          378000  "
      ]
     },
     "metadata": {},
     "output_type": "display_data"
    }
   ],
   "source": [
    "df = df_orig.copy()\n",
    "print(df.shape)\n",
    "display(df.head(2), df.tail(2))"
   ]
  },
  {
   "cell_type": "markdown",
   "metadata": {},
   "source": [
    "### import packages"
   ]
  },
  {
   "cell_type": "code",
   "execution_count": 8,
   "metadata": {},
   "outputs": [],
   "source": [
    "import os\n",
    "import numpy as np\n",
    "import pandas as pd\n",
    "import matplotlib.pyplot as plt\n",
    "import seaborn as sns"
   ]
  },
  {
   "cell_type": "code",
   "execution_count": 9,
   "metadata": {},
   "outputs": [
    {
     "data": {
      "text/html": [
       "<div>\n",
       "<style scoped>\n",
       "    .dataframe tbody tr th:only-of-type {\n",
       "        vertical-align: middle;\n",
       "    }\n",
       "\n",
       "    .dataframe tbody tr th {\n",
       "        vertical-align: top;\n",
       "    }\n",
       "\n",
       "    .dataframe thead th {\n",
       "        text-align: right;\n",
       "    }\n",
       "</style>\n",
       "<table border=\"1\" class=\"dataframe\">\n",
       "  <thead>\n",
       "    <tr style=\"text-align: right;\">\n",
       "      <th></th>\n",
       "      <th>financial_year</th>\n",
       "      <th>town</th>\n",
       "      <th>room_type</th>\n",
       "      <th>min_selling_price</th>\n",
       "      <th>max_selling_price</th>\n",
       "      <th>min_selling_price_less_ahg_shg</th>\n",
       "      <th>max_selling_price_less_ahg_shg</th>\n",
       "    </tr>\n",
       "  </thead>\n",
       "  <tbody>\n",
       "    <tr>\n",
       "      <th>0</th>\n",
       "      <td>2008</td>\n",
       "      <td>Punggol</td>\n",
       "      <td>2-room</td>\n",
       "      <td>82000</td>\n",
       "      <td>107000</td>\n",
       "      <td>0</td>\n",
       "      <td>0</td>\n",
       "    </tr>\n",
       "    <tr>\n",
       "      <th>1</th>\n",
       "      <td>2008</td>\n",
       "      <td>Punggol</td>\n",
       "      <td>3-room</td>\n",
       "      <td>135000</td>\n",
       "      <td>211000</td>\n",
       "      <td>0</td>\n",
       "      <td>0</td>\n",
       "    </tr>\n",
       "  </tbody>\n",
       "</table>\n",
       "</div>"
      ],
      "text/plain": [
       "   financial_year     town room_type  min_selling_price  max_selling_price  \\\n",
       "0            2008  Punggol    2-room              82000             107000   \n",
       "1            2008  Punggol    3-room             135000             211000   \n",
       "\n",
       "   min_selling_price_less_ahg_shg  max_selling_price_less_ahg_shg  \n",
       "0                               0                               0  \n",
       "1                               0                               0  "
      ]
     },
     "execution_count": 9,
     "metadata": {},
     "output_type": "execute_result"
    }
   ],
   "source": [
    "df.head(2)"
   ]
  },
  {
   "cell_type": "markdown",
   "metadata": {},
   "source": [
    "# EDA"
   ]
  },
  {
   "cell_type": "markdown",
   "metadata": {},
   "source": [
    "### null check"
   ]
  },
  {
   "cell_type": "code",
   "execution_count": null,
   "metadata": {},
   "outputs": [],
   "source": []
  }
 ],
 "metadata": {
  "kernelspec": {
   "display_name": "Python 3",
   "language": "python",
   "name": "python3"
  },
  "language_info": {
   "codemirror_mode": {
    "name": "ipython",
    "version": 3
   },
   "file_extension": ".py",
   "mimetype": "text/x-python",
   "name": "python",
   "nbconvert_exporter": "python",
   "pygments_lexer": "ipython3",
   "version": "3.8.2"
  }
 },
 "nbformat": 4,
 "nbformat_minor": 4
}
